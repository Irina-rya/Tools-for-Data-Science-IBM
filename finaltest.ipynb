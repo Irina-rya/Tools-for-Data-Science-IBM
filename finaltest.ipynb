{
    "cells": [
        {
            "cell_type": "markdown",
            "metadata": {
                "collapsed": true
            },
            "source": "# My Jupyter Notebook on IBM Watson Studio"
        },
        {
            "cell_type": "markdown",
            "metadata": {},
            "source": "** Irina Ryabtceva **\n"
        },
        {
            "cell_type": "markdown",
            "metadata": {},
            "source": " I'm currently a Chief Operational Officer!"
        },
        {
            "cell_type": "markdown",
            "metadata": {},
            "source": "*I am interested in data science because, I have a passion for using data to draw meaningful conclusions about a company's growth. I majored in computer science, then earned a master's degree in data analytics. During school, I mostly used SQL, but in my first role as a data scientist, I also learned Python. I enjoy adapting to new programming languages and expanding my collection of tools for analyzing data.*"
        },
        {
            "cell_type": "markdown",
            "metadata": {},
            "source": "### The Following Code will generate a random integer between 80 and 100"
        },
        {
            "cell_type": "code",
            "execution_count": 2,
            "metadata": {},
            "outputs": [
                {
                    "name": "stdout",
                    "output_type": "stream",
                    "text": "100\n"
                }
            ],
            "source": "import random\n\nRandom_int = random.randint(80,100)\n\nprint(Random_int)"
        },
        {
            "cell_type": "markdown",
            "metadata": {},
            "source": "Interested technologies:\n***\n1. AI- ML/DL\n2. Cloud\n3. Data Analytics\n4. IoT\n***\n[Github](https://www.github.com/Irina-rya) https://www.github.com/Irina-rya"
        },
        {
            "cell_type": "code",
            "execution_count": null,
            "metadata": {},
            "outputs": [],
            "source": ""
        },
        {
            "cell_type": "code",
            "execution_count": null,
            "metadata": {},
            "outputs": [],
            "source": ""
        }
    ],
    "metadata": {
        "kernelspec": {
            "display_name": "Python 3.7",
            "language": "python",
            "name": "python3"
        },
        "language_info": {
            "codemirror_mode": {
                "name": "ipython",
                "version": 3
            },
            "file_extension": ".py",
            "mimetype": "text/x-python",
            "name": "python",
            "nbconvert_exporter": "python",
            "pygments_lexer": "ipython3",
            "version": "3.7.9"
        }
    },
    "nbformat": 4,
    "nbformat_minor": 1
}
